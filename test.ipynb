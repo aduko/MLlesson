{
  "nbformat": 4,
  "nbformat_minor": 0,
  "metadata": {
    "colab": {
      "name": "test.ipynb",
      "version": "0.3.2",
      "provenance": [],
      "include_colab_link": true
    },
    "kernelspec": {
      "name": "python3",
      "display_name": "Python 3"
    },
    "accelerator": "GPU"
  },
  "cells": [
    {
      "cell_type": "markdown",
      "metadata": {
        "id": "view-in-github",
        "colab_type": "text"
      },
      "source": [
        "<a href=\"https://colab.research.google.com/github/aduko/MLlesson/blob/master/test.ipynb\" target=\"_parent\"><img src=\"https://colab.research.google.com/assets/colab-badge.svg\" alt=\"Open In Colab\"/></a>"
      ]
    },
    {
      "metadata": {
        "id": "4s6PLdw6TOud",
        "colab_type": "code",
        "colab": {
          "base_uri": "https://localhost:8080/",
          "height": 204
        },
        "outputId": "bb3d34e6-83ca-45e8-a2a2-3fce2afc1dd0"
      },
      "cell_type": "code",
      "source": [
        "!wget http://www.soumu.metro.tokyo.jp/05gyousei/opendata/300124_opendata_2/h28tokubetsukukazei_21.csv"
      ],
      "execution_count": 1,
      "outputs": [
        {
          "output_type": "stream",
          "text": [
            "--2019-03-21 03:36:37--  http://www.soumu.metro.tokyo.jp/05gyousei/opendata/300124_opendata_2/h28tokubetsukukazei_21.csv\n",
            "Resolving www.soumu.metro.tokyo.jp (www.soumu.metro.tokyo.jp)... 27.110.42.248\n",
            "Connecting to www.soumu.metro.tokyo.jp (www.soumu.metro.tokyo.jp)|27.110.42.248|:80... connected.\n",
            "HTTP request sent, awaiting response... 200 OK\n",
            "Length: 1922 (1.9K) [text/csv]\n",
            "Saving to: ‘h28tokubetsukukazei_21.csv’\n",
            "\n",
            "h28tokubetsukukazei 100%[===================>]   1.88K  --.-KB/s    in 0s      \n",
            "\n",
            "2019-03-21 03:36:38 (105 MB/s) - ‘h28tokubetsukukazei_21.csv’ saved [1922/1922]\n",
            "\n"
          ],
          "name": "stdout"
        }
      ]
    }
  ]
}